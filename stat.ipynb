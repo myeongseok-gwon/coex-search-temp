{
 "cells": [
  {
   "cell_type": "code",
   "execution_count": 2,
   "id": "0d2b2e0f",
   "metadata": {},
   "outputs": [
    {
     "name": "stdout",
     "output_type": "stream",
     "text": [
      "각 그룹당 40명, alpha=0.05, power=0.8일 때 필요한 효과크기(Cohen's d): 0.634\n"
     ]
    }
   ],
   "source": [
    "from statsmodels.stats.power import TTestIndPower\n",
    "\n",
    "# 샘플 수, 유의수준, 검정력(파워) 지정\n",
    "n_per_group = 40   # (예시) 각 그룹당 64명\n",
    "alpha = 0.05       # 유의수준\n",
    "power = 0.8        # 검정력\n",
    "\n",
    "analysis = TTestIndPower()\n",
    "\n",
    "# solve_power에서 nobs1 (첫 번째 그룹의 샘플 수) 사용, effect_size는 구하고자 하는 값이므로 None\n",
    "effect_size = analysis.solve_power(\n",
    "    effect_size=None,\n",
    "    nobs1=n_per_group,\n",
    "    alpha=alpha,\n",
    "    power=power,\n",
    "    alternative='two-sided'\n",
    ")\n",
    "\n",
    "print(f\"각 그룹당 {n_per_group}명, alpha={alpha}, power={power}일 때 필요한 효과크기(Cohen's d): {effect_size:.3f}\")\n",
    "\n",
    "\n",
    "\n"
   ]
  }
 ],
 "metadata": {
  "kernelspec": {
   "display_name": "base",
   "language": "python",
   "name": "python3"
  },
  "language_info": {
   "codemirror_mode": {
    "name": "ipython",
    "version": 3
   },
   "file_extension": ".py",
   "mimetype": "text/x-python",
   "name": "python",
   "nbconvert_exporter": "python",
   "pygments_lexer": "ipython3",
   "version": "3.12.7"
  }
 },
 "nbformat": 4,
 "nbformat_minor": 5
}
